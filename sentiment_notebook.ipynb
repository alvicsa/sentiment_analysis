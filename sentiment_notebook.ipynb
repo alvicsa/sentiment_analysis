{
 "cells": [
  {
   "cell_type": "markdown",
   "metadata": {},
   "source": [
    "# Machine Learning Challenge\n",
    "\n",
    "## Overview\n",
    "\n",
    "The focus of this exercise is on a field within machine learning called [Natural Language Processing](https://en.wikipedia.org/wiki/Natural-language_processing). We can think of this field as the intersection between language, and machine learning. Tasks in this field include automatic translation (Google translate), intelligent personal assistants (Siri), information extraction, and speech recognition for example.\n",
    "\n",
    "NLP uses many of the same techniques as traditional data science, but also features a number of specialised skills and approaches. There is no expectation that you have any experience with NLP, however, to complete the challenge it will be useful to have the following skills:\n",
    "\n",
    "- understanding of the python programming language\n",
    "- understanding of basic machine learning concepts, i.e. supervised learning\n",
    "\n",
    "\n",
    "### Instructions\n",
    "\n",
    "1. Download this notebook!\n",
    "2. Answer each of the provided questions, including your source code as cells in this notebook.\n",
    "3. Share the results with us, e.g. a Github repo.\n",
    "\n",
    "### Task description\n",
    "\n",
    "You will be performing a task known as [sentiment analysis](https://en.wikipedia.org/wiki/Sentiment_analysis). Here, the goal is to predict sentiment -- the emotional intent behind a statement -- from text. For example, the sentence: \"*This movie was terrible!\"* has a negative sentiment, whereas \"*loved this cinematic masterpiece*\" has a positive sentiment.\n",
    "\n",
    "To simplify the task, we consider sentiment binary: labels of `1` indicate a sentence has a positive sentiment, and labels of `0` indicate that the sentence has a negative sentiment.\n",
    "\n",
    "### Dataset\n",
    "\n",
    "The dataset is split across three files, representing three different sources -- Amazon, Yelp and IMDB. Your task is to build a sentiment analysis model using both the Yelp and IMDB data as your training-set, and test the performance of your model on the Amazon data.\n",
    "\n",
    "Each file can be found in the `input` directory, and contains 1000 rows of data. Each row contains a sentence, a `tab` character and then a label -- `0` or `1`. \n",
    "\n",
    "**Notes**\n",
    "- Feel free to use existing machine learning libraries as components in you solution!\n",
    "- Suggested libraries: `sklearn` (for machine learning), `pandas` (for loading/processing data), `spacy` (for text processing).\n",
    "- As mentioned, you are not expected to have previous experience with this exact task. You are free to refer to external tutorials/resources to assist you. However, you will be asked to justfify the choices you have made -- so make you understand the approach you have taken."
   ]
  },
  {
   "cell_type": "code",
   "execution_count": 1,
   "metadata": {},
   "outputs": [
    {
     "name": "stdout",
     "output_type": "stream",
     "text": [
      "['amazon_cells_labelled.txt', 'imdb_labelled.txt', 'yelp_labelled.txt']\n"
     ]
    }
   ],
   "source": [
    "import os\n",
    "print(os.listdir(\"./input\"))"
   ]
  },
  {
   "cell_type": "markdown",
   "metadata": {},
   "source": [
    "# Tasks\n",
    "### 1. Read and concatenate data into test and train sets."
   ]
  },
  {
   "cell_type": "markdown",
   "metadata": {},
   "source": [
    "Combine all review data into two Pandas Data Frames representing the train and test datasets"
   ]
  },
  {
   "cell_type": "code",
   "execution_count": 2,
   "metadata": {},
   "outputs": [],
   "source": [
    "import pandas as pd\n",
    "\n",
    "# Set path to the data files\n",
    "path = './input/'\n",
    "\n",
    "# Add column names\n",
    "col_names = ['Text', 'Label']\n",
    "\n",
    "# Import data files as Pandas Dataframes\n",
    "df_yelp = pd.read_table(path+'yelp_labelled.txt', names=col_names)\n",
    "df_amazon = pd.read_table(path+'amazon_cells_labelled.txt', names=col_names) # Use as test dataset\n",
    "df_imdb = pd.read_table(path+'imdb_labelled.txt', names=col_names)\n",
    "\n",
    "# Combine/union Yelp and IMDB into a single dataframe\n",
    "df_comb = pd.concat([df_yelp, df_imdb])    # Use as train data set\n"
   ]
  },
  {
   "cell_type": "code",
   "execution_count": 3,
   "metadata": {},
   "outputs": [],
   "source": [
    "# Combine all three datasets into one and use for alternative testing\n",
    "\n",
    "df_all = pd.concat([df_yelp, df_imdb, df_amazon])"
   ]
  },
  {
   "cell_type": "markdown",
   "metadata": {},
   "source": [
    "### 2. Prepare the data for input into your model."
   ]
  },
  {
   "cell_type": "code",
   "execution_count": 4,
   "metadata": {},
   "outputs": [
    {
     "data": {
      "text/plain": [
       "Text     0\n",
       "Label    0\n",
       "dtype: int64"
      ]
     },
     "execution_count": 4,
     "metadata": {},
     "output_type": "execute_result"
    }
   ],
   "source": [
    "# Checking for Missing Values\n",
    "df_all.isnull().sum()"
   ]
  },
  {
   "cell_type": "markdown",
   "metadata": {},
   "source": [
    "**Lemmatize and remove stop words from the obtained dataset.**"
   ]
  },
  {
   "cell_type": "markdown",
   "metadata": {},
   "source": [
    "**Tokenization** is the process of breaking text into pieces, called tokens, and ignoring characters like punctuation marks (,. “ ‘) and spaces. spaCy‘s tokenizer takes input in form of unicode text and outputs a sequence of token objects."
   ]
  },
  {
   "cell_type": "code",
   "execution_count": 5,
   "metadata": {},
   "outputs": [],
   "source": [
    "from  spacy.lang.en.stop_words import STOP_WORDS\n",
    "import en_core_web_sm\n",
    "\n",
    "# Build a list of stopwords to use to filter\n",
    "stopwords = list(STOP_WORDS)\n",
    "\n",
    "\n",
    "nlp = en_core_web_sm.load()\n",
    "\n",
    "import string\n",
    "punctuations = string.punctuation\n",
    "\n",
    "def my_tokenizer(sentence):\n",
    "    mytokens = nlp(sentence)\n",
    "    mytokens = [word.lemma_.lower().strip() if word.lemma_ != \"-PRON-\" else word.lower_ for word in mytokens]\n",
    "    mytokens = [ word for word in mytokens if word not in stopwords and word not in punctuations ]\n",
    "    return mytokens"
   ]
  },
  {
   "cell_type": "code",
   "execution_count": 6,
   "metadata": {},
   "outputs": [
    {
     "data": {
      "text/plain": [
       "spacy.tokens.doc.Doc"
      ]
     },
     "execution_count": 6,
     "metadata": {},
     "output_type": "execute_result"
    }
   ],
   "source": [
    "type(nlp(\"This is how John Walker was walking. He was also running beside the lawn.\"))"
   ]
  },
  {
   "cell_type": "code",
   "execution_count": 7,
   "metadata": {},
   "outputs": [
    {
     "data": {
      "text/plain": [
       "['john', 'walker', 'walk', 'run', 'lawn']"
      ]
     },
     "execution_count": 7,
     "metadata": {},
     "output_type": "execute_result"
    }
   ],
   "source": [
    "# Example of tekonizer\n",
    "my_tokenizer(\"This is how John Walker was walking. He was also running beside the lawn.\")"
   ]
  },
  {
   "cell_type": "code",
   "execution_count": 8,
   "metadata": {},
   "outputs": [],
   "source": [
    "# Import required ML Packages\n",
    "from sklearn.feature_extraction.text import CountVectorizer,TfidfVectorizer\n",
    "from sklearn.metrics import accuracy_score \n",
    "from sklearn.base import TransformerMixin \n",
    "\n",
    "\n",
    "# Basic text cleaning function that removes spaces and converts text into lowercase\n",
    "def clean_text(text):     \n",
    "    return text.strip().lower()\n",
    "\n",
    "#Custom transformer that inherits from the TransformerMixin class\n",
    "class predictors(TransformerMixin):\n",
    "    def transform(self, X, **transform_params):\n",
    "        return [clean_text(text) for text in X]\n",
    "    def fit(self, X, y, **fit_params):\n",
    "        return self\n",
    "    def get_params(self, deep=True):\n",
    "        return {}\n",
    "    \n",
    "# Bag of Words (BoW) converts text into the matrix of occurrence of words within a given document\n",
    "# Convert a collection of text documents to a matrix of token counts\n",
    "# This implementation produces a sparse representation of the counts using scipy.sparse.csr_matrix.\n",
    "vectorizer = CountVectorizer(tokenizer = my_tokenizer, ngram_range=(1,1)) "
   ]
  },
  {
   "cell_type": "code",
   "execution_count": 9,
   "metadata": {},
   "outputs": [],
   "source": [
    "# Select Train and Test datasets and split into text and labels\n",
    "X_train = df_comb['Text']\n",
    "y_train = df_comb['Label']\n",
    "\n",
    "X_test = df_amazon['Text']\n",
    "y_test = df_amazon['Label']"
   ]
  },
  {
   "cell_type": "markdown",
   "metadata": {},
   "source": [
    "#### 2a: Find the ten most frequent words in the training set."
   ]
  },
  {
   "cell_type": "code",
   "execution_count": 10,
   "metadata": {},
   "outputs": [
    {
     "data": {
      "text/html": [
       "<div>\n",
       "<style scoped>\n",
       "    .dataframe tbody tr th:only-of-type {\n",
       "        vertical-align: middle;\n",
       "    }\n",
       "\n",
       "    .dataframe tbody tr th {\n",
       "        vertical-align: top;\n",
       "    }\n",
       "\n",
       "    .dataframe thead th {\n",
       "        text-align: right;\n",
       "    }\n",
       "</style>\n",
       "<table border=\"1\" class=\"dataframe\">\n",
       "  <thead>\n",
       "    <tr style=\"text-align: right;\">\n",
       "      <th></th>\n",
       "      <th>Text</th>\n",
       "      <th>Label</th>\n",
       "      <th>Tokenised Text</th>\n",
       "    </tr>\n",
       "  </thead>\n",
       "  <tbody>\n",
       "    <tr>\n",
       "      <th>0</th>\n",
       "      <td>Wow... Loved this place.</td>\n",
       "      <td>1</td>\n",
       "      <td>wow ... love place</td>\n",
       "    </tr>\n",
       "    <tr>\n",
       "      <th>1</th>\n",
       "      <td>Crust is not good.</td>\n",
       "      <td>0</td>\n",
       "      <td>crust good</td>\n",
       "    </tr>\n",
       "    <tr>\n",
       "      <th>2</th>\n",
       "      <td>Not tasty and the texture was just nasty.</td>\n",
       "      <td>0</td>\n",
       "      <td>tasty texture nasty</td>\n",
       "    </tr>\n",
       "    <tr>\n",
       "      <th>3</th>\n",
       "      <td>Stopped by during the late May bank holiday of...</td>\n",
       "      <td>1</td>\n",
       "      <td>stop late bank holiday rick steve recommendati...</td>\n",
       "    </tr>\n",
       "    <tr>\n",
       "      <th>4</th>\n",
       "      <td>The selection on the menu was great and so wer...</td>\n",
       "      <td>1</td>\n",
       "      <td>selection menu great price</td>\n",
       "    </tr>\n",
       "  </tbody>\n",
       "</table>\n",
       "</div>"
      ],
      "text/plain": [
       "                                                Text  Label  \\\n",
       "0                           Wow... Loved this place.      1   \n",
       "1                                 Crust is not good.      0   \n",
       "2          Not tasty and the texture was just nasty.      0   \n",
       "3  Stopped by during the late May bank holiday of...      1   \n",
       "4  The selection on the menu was great and so wer...      1   \n",
       "\n",
       "                                      Tokenised Text  \n",
       "0                                 wow ... love place  \n",
       "1                                         crust good  \n",
       "2                                tasty texture nasty  \n",
       "3  stop late bank holiday rick steve recommendati...  \n",
       "4                         selection menu great price  "
      ]
     },
     "execution_count": 10,
     "metadata": {},
     "output_type": "execute_result"
    }
   ],
   "source": [
    "df_comb['Tokenised Text'] = df_comb['Text'].apply(lambda x: my_tokenizer(x)).apply(lambda x: ' '.join(x))\n",
    "\n",
    "df_comb.head()"
   ]
  },
  {
   "cell_type": "code",
   "execution_count": 11,
   "metadata": {
    "scrolled": true
   },
   "outputs": [
    {
     "data": {
      "text/plain": [
       "movie    212\n",
       "good     201\n",
       "film     189\n",
       "0        138\n",
       "food     127\n",
       "bad      126\n",
       "1        124\n",
       "place    119\n",
       "great    115\n",
       "like     111\n",
       "dtype: int64"
      ]
     },
     "execution_count": 11,
     "metadata": {},
     "output_type": "execute_result"
    }
   ],
   "source": [
    "#List top 10 most frequent words from the training set\n",
    "words = pd.Series(' '.join(df_comb['Tokenised Text']).split()).value_counts()[:10]\n",
    "\n",
    "words"
   ]
  },
  {
   "cell_type": "markdown",
   "metadata": {},
   "source": [
    "### 3. Train your model and justify your choices."
   ]
  },
  {
   "cell_type": "code",
   "execution_count": 12,
   "metadata": {},
   "outputs": [],
   "source": [
    "from sklearn.svm import LinearSVC\n",
    "\n",
    "\n",
    "# Select Linear Support Vector Classification \n",
    "classifier = LinearSVC()"
   ]
  },
  {
   "cell_type": "code",
   "execution_count": 13,
   "metadata": {},
   "outputs": [
    {
     "name": "stdout",
     "output_type": "stream",
     "text": [
      "Wall time: 14.6 s\n"
     ]
    },
    {
     "data": {
      "text/plain": [
       "Pipeline(steps=[('cleaner', <__main__.predictors object at 0x00000207A215C040>),\n",
       "                ('vectorizer',\n",
       "                 CountVectorizer(tokenizer=<function my_tokenizer at 0x000002079AD6F550>)),\n",
       "                ('classifier', LinearSVC())])"
      ]
     },
     "execution_count": 13,
     "metadata": {},
     "output_type": "execute_result"
    }
   ],
   "source": [
    "%%time\n",
    "from sklearn.pipeline import Pipeline\n",
    "\n",
    "# Create a pipeline with three components: a cleaner, a vectorizer, and a classifier. \n",
    "# The cleaner uses our predictors class object to clean and preprocess the text. \n",
    "# The vectorizer uses countvector objects to create the bag of words matrix for our text. \n",
    "# The classifier is an object that performs the logistic regression to classify the sentiments\n",
    "pipe = Pipeline([(\"cleaner\", predictors()),\n",
    "                 ('vectorizer', vectorizer),\n",
    "                 ('classifier', classifier)])\n",
    "\n",
    "# Fit our data - Fit the model according to the given training data.\n",
    "pipe.fit(X_train,y_train)\n",
    "\n",
    "\n",
    "# Predicting with a test dataset - Predict class labels for samples in X.\n",
    "# sample_prediction = pipe_countvect.predict(X_test)\n",
    "\n",
    "# Print Prediction Results\n",
    "# 1 = Positive review\n",
    "# 0 = Negative review\n",
    "# for (sample,pred) in zip(X_test,sample_prediction):\n",
    "#     print(sample,\"Prediction=>\",pred)\n",
    "\n"
   ]
  },
  {
   "cell_type": "markdown",
   "metadata": {},
   "source": [
    "### 4. Evaluate your model using metric(s) you see fit and justify your choices."
   ]
  },
  {
   "cell_type": "code",
   "execution_count": 14,
   "metadata": {},
   "outputs": [
    {
     "name": "stdout",
     "output_type": "stream",
     "text": [
      "LinearSVC Training Accuracy:  0.986\n",
      "LinearSVC Test Accuracy:  0.75\n"
     ]
    }
   ],
   "source": [
    "import numpy as np\n",
    "# Results - Accuracy - Balanced Problem\n",
    "#Return the mean accuracy on the given test data and labels.\n",
    "\n",
    "print(\"LinearSVC Training Accuracy: \", np.around(pipe.score(X_train, y_train), decimals=3))\n",
    "print(\"LinearSVC Test Accuracy: \", np.around(pipe.score(X_test, y_test), decimals=3))"
   ]
  },
  {
   "cell_type": "markdown",
   "metadata": {},
   "source": [
    "### Additional Notes on Accuracy:\n",
    "\n",
    "Informally, accuracy is the fraction of predictions our model got right. Accuracy alone doesn't tell the full story when you're working with a class-imbalanced data set, where there is a significant disparity between the number of positive and negative labels.\n",
    "\n",
    "To fully evaluate the effectiveness of a model, you must examine both **precision** and **recall**.\n",
    "\n",
    "![Accuracy - Precision](./images/precision.png \"Title\")\n",
    "![Accuracy - Recall](./images/recall.png \"Title\")"
   ]
  },
  {
   "cell_type": "code",
   "execution_count": 15,
   "metadata": {},
   "outputs": [
    {
     "name": "stdout",
     "output_type": "stream",
     "text": [
      "Support Vector Classification Accuracy: 0.75\n",
      "Support Vector Classification Precision: 0.805\n",
      "Support Vector Classification Recall: 0.66\n"
     ]
    }
   ],
   "source": [
    "from sklearn import metrics\n",
    "\n",
    "# Predicting with a test dataset\n",
    "predicted = pipe.predict(X_test)\n",
    "\n",
    "# Model Accuracy\n",
    "print(\"Support Vector Classification Accuracy:\", np.around(metrics.accuracy_score(y_test, predicted), decimals=3))\n",
    "print(\"Support Vector Classification Precision:\", np.around(metrics.precision_score(y_test, predicted), decimals=3))\n",
    "print(\"Support Vector Classification Recall:\", np.around(metrics.recall_score(y_test, predicted), decimals=3))"
   ]
  },
  {
   "cell_type": "code",
   "execution_count": 16,
   "metadata": {},
   "outputs": [
    {
     "name": "stdout",
     "output_type": "stream",
     "text": [
      "Logistic Regression Accuracy: 0.772\n",
      "Logistic Regression Precision: 0.845\n",
      "Logistic Regression Recall: 0.666\n",
      "Wall time: 25.5 s\n"
     ]
    }
   ],
   "source": [
    "%%time\n",
    "\n",
    "# Prediction model using LogisticRegression\n",
    "from sklearn.linear_model import LogisticRegression\n",
    "\n",
    "\n",
    "pipe = Pipeline([(\"cleaner\", predictors()),\n",
    "                 ('vectorizer', vectorizer),\n",
    "                 ('classifier', LogisticRegression())])\n",
    "\n",
    "# Fit our data - Fit the model according to the given training data.\n",
    "pipe.fit(X_train,y_train)\n",
    "\n",
    "# Predicting with a test dataset\n",
    "predicted = pipe.predict(X_test)\n",
    "\n",
    "# Model Accuracy\n",
    "print(\"Logistic Regression Accuracy:\", np.around(metrics.accuracy_score(y_test, predicted), decimals=3))\n",
    "print(\"Logistic Regression Precision:\", np.around(metrics.precision_score(y_test, predicted), decimals=3))\n",
    "print(\"Logistic Regression Recall:\", np.around(metrics.recall_score(y_test, predicted), decimals=3))"
   ]
  },
  {
   "cell_type": "markdown",
   "metadata": {},
   "source": [
    "### 5. Evaluate alternative train/test model using all datasets combined and using 80-20 split"
   ]
  },
  {
   "cell_type": "markdown",
   "metadata": {},
   "source": [
    "#### 5.1 Splitting data into Train and Test sets"
   ]
  },
  {
   "cell_type": "code",
   "execution_count": 17,
   "metadata": {},
   "outputs": [],
   "source": [
    "# Splitting Data Set\n",
    "from sklearn.model_selection import train_test_split\n",
    "\n",
    "# Features and Labels\n",
    "X = df_all['Text']\n",
    "ylabels = df_all['Label']\n",
    "\n",
    "X_train, X_test, y_train, y_test = train_test_split(X, ylabels, test_size=0.2, random_state=42)"
   ]
  },
  {
   "cell_type": "code",
   "execution_count": 18,
   "metadata": {},
   "outputs": [],
   "source": [
    "# Create a dataframe for recording the model performance\n",
    "df_performance = pd.DataFrame(columns=('Model', 'Train Accuracy', 'Test Accuracy', 'Test Precision', 'Test Recall'))"
   ]
  },
  {
   "cell_type": "markdown",
   "metadata": {},
   "source": [
    "#### 5.2 Applying different classification models to test performance"
   ]
  },
  {
   "cell_type": "markdown",
   "metadata": {},
   "source": [
    "#### 5.2.1 Linear Support Vector Classification "
   ]
  },
  {
   "cell_type": "code",
   "execution_count": 19,
   "metadata": {},
   "outputs": [
    {
     "name": "stdout",
     "output_type": "stream",
     "text": [
      "LinearSVC Training Accuracy: 0.976\n",
      "LinearSVC Test Accuracy: 0.767\n",
      "LinearSVC Test Precision: 0.733\n",
      "LinearSVC Test Recall: 0.774\n",
      "Wall time: 1min 4s\n"
     ]
    }
   ],
   "source": [
    "%%time\n",
    "\n",
    "# Prediction model using LinearSVC\n",
    "pipe = Pipeline([(\"cleaner\", predictors()),\n",
    "                 ('vectorizer', vectorizer),\n",
    "                 ('classifier', LinearSVC())])\n",
    "\n",
    "# Fit our data\n",
    "pipe.fit(X_train,y_train)\n",
    "\n",
    "# Predicting with a test dataset\n",
    "predicted = pipe.predict(X_test)\n",
    "\n",
    "# Record performance\n",
    "perf_record = [{'Model': 'LinearSVC', \n",
    "         'Train Accuracy': np.around(pipe.score(X_train,y_train), decimals=3),\n",
    "         'Test Accuracy': np.around(metrics.accuracy_score(y_test, predicted), decimals=3),\n",
    "        'Test Precision': np.around(metrics.precision_score(y_test, predicted), decimals=3), \n",
    "         'Test Recall': np.around(metrics.recall_score(y_test, predicted), decimals=3)}]\n",
    "\n",
    "df_performance = df_performance.append(perf_record, ignore_index=True, sort=False)\n",
    "\n",
    "# Model Accuracy\n",
    "print(\"LinearSVC Training Accuracy:\", np.around(pipe.score(X_train,y_train), decimals=3))\n",
    "print(\"LinearSVC Test Accuracy:\", np.around(metrics.accuracy_score(y_test, predicted), decimals=3))\n",
    "print(\"LinearSVC Test Precision:\", np.around(metrics.precision_score(y_test, predicted), decimals=3))\n",
    "print(\"LinearSVC Test Recall:\", np.around(metrics.recall_score(y_test, predicted), decimals=3))"
   ]
  },
  {
   "cell_type": "markdown",
   "metadata": {},
   "source": [
    "#### 5.2.2 Logistic Regression"
   ]
  },
  {
   "cell_type": "code",
   "execution_count": 20,
   "metadata": {},
   "outputs": [
    {
     "name": "stdout",
     "output_type": "stream",
     "text": [
      "Logistic Regression Training Accuracy: 0.946\n",
      "Logistic Regression Accuracy: 0.78\n",
      "Logistic Regression Precision: 0.755\n",
      "Logistic Regression Recall: 0.77\n",
      "Wall time: 59.6 s\n"
     ]
    }
   ],
   "source": [
    "%%time\n",
    "# Prediction model using LogisticRegression\n",
    "\n",
    "pipe = Pipeline([(\"cleaner\", predictors()),\n",
    "                 ('vectorizer', vectorizer),\n",
    "                 ('classifier', LogisticRegression())])\n",
    "\n",
    "# Fit our data - Fit the model according to the given training data.\n",
    "pipe.fit(X_train,y_train)\n",
    "\n",
    "# Predicting with a test dataset\n",
    "predicted = pipe.predict(X_test)\n",
    "\n",
    "# Record performance\n",
    "perf_record = [{'Model': 'LogisticRegression', \n",
    "         'Train Accuracy': np.around(pipe.score(X_train,y_train), decimals=3),\n",
    "         'Test Accuracy': np.around(metrics.accuracy_score(y_test, predicted), decimals=3),\n",
    "        'Test Precision': np.around(metrics.precision_score(y_test, predicted), decimals=3), \n",
    "         'Test Recall': np.around(metrics.recall_score(y_test, predicted), decimals=3)}]\n",
    "\n",
    "df_performance = df_performance.append(perf_record, ignore_index=True, sort=False)\n",
    "\n",
    "# Model Accuracy\n",
    "print(\"Logistic Regression Training Accuracy:\", np.around(pipe.score(X_train,y_train), decimals=3))\n",
    "print(\"Logistic Regression Accuracy:\", np.around(metrics.accuracy_score(y_test, predicted), decimals=3))\n",
    "print(\"Logistic Regression Precision:\", np.around(metrics.precision_score(y_test, predicted), decimals=3))\n",
    "print(\"Logistic Regression Recall:\", np.around(metrics.recall_score(y_test, predicted), decimals=3))"
   ]
  },
  {
   "cell_type": "markdown",
   "metadata": {},
   "source": [
    "#### 5.2.3 Decision Tree Classifier"
   ]
  },
  {
   "cell_type": "code",
   "execution_count": 21,
   "metadata": {},
   "outputs": [
    {
     "name": "stdout",
     "output_type": "stream",
     "text": [
      "DecisionTreeClassifier Training Accuracy: 0.907\n",
      "DecisionTreeClassifier Accuracy: 0.736\n",
      "DecisionTreeClassifier Precision: 0.711\n",
      "DecisionTreeClassifier Recall: 0.714\n",
      "Wall time: 58 s\n"
     ]
    }
   ],
   "source": [
    "%%time\n",
    "# Prediction model using DecisionTreeClassifier\n",
    "from sklearn.tree import DecisionTreeClassifier\n",
    "\n",
    "pipe = Pipeline([(\"cleaner\", predictors()),\n",
    "                 ('vectorizer', vectorizer),\n",
    "                 ('classifier', DecisionTreeClassifier(random_state=0, min_samples_split = 150))])\n",
    "\n",
    "# Fit our data - Fit the model according to the given training data.\n",
    "pipe.fit(X_train,y_train)\n",
    "\n",
    "# Predicting with a test dataset\n",
    "predicted = pipe.predict(X_test)\n",
    "\n",
    "# Record performance\n",
    "perf_record = [{'Model': 'DecisionTreeClassifier', \n",
    "         'Train Accuracy': np.around(pipe.score(X_train,y_train), decimals=3),\n",
    "         'Test Accuracy': np.around(metrics.accuracy_score(y_test, predicted), decimals=3),\n",
    "        'Test Precision': np.around(metrics.precision_score(y_test, predicted), decimals=3), \n",
    "         'Test Recall': np.around(metrics.recall_score(y_test, predicted), decimals=3)}]\n",
    "\n",
    "df_performance = df_performance.append(perf_record, ignore_index=True, sort=False)\n",
    "\n",
    "# Model Accuracy\n",
    "print(\"DecisionTreeClassifier Training Accuracy:\", np.around(pipe.score(X_train,y_train), decimals=3))\n",
    "print(\"DecisionTreeClassifier Accuracy:\", np.around(metrics.accuracy_score(y_test, predicted), decimals=3))\n",
    "print(\"DecisionTreeClassifier Precision:\", np.around(metrics.precision_score(y_test, predicted), decimals=3))\n",
    "print(\"DecisionTreeClassifier Recall:\", np.around(metrics.recall_score(y_test, predicted), decimals=3))"
   ]
  },
  {
   "cell_type": "markdown",
   "metadata": {},
   "source": [
    "#### 5.2.4 Random Forest Classifier"
   ]
  },
  {
   "cell_type": "code",
   "execution_count": 22,
   "metadata": {},
   "outputs": [
    {
     "name": "stdout",
     "output_type": "stream",
     "text": [
      "RandomForestClassifier Training Accuracy: 0.993\n",
      "RandomForestClassifier Accuracy: 0.733\n",
      "RandomForestClassifier Precision: 0.708\n",
      "RandomForestClassifier Recall: 0.71\n",
      "Wall time: 1min 2s\n"
     ]
    }
   ],
   "source": [
    "%%time\n",
    "# Prediction model using RandomForestClassifier\n",
    "from sklearn.ensemble import RandomForestClassifier\n",
    "\n",
    "pipe = Pipeline([(\"cleaner\", predictors()),\n",
    "                 ('vectorizer', vectorizer),\n",
    "                 ('classifier', RandomForestClassifier(n_estimators=100,oob_score=True))])\n",
    "\n",
    "# Fit our data - Fit the model according to the given training data.\n",
    "pipe.fit(X_train,y_train)\n",
    "\n",
    "# Predicting with a test dataset\n",
    "predicted = pipe.predict(X_test)\n",
    "\n",
    "# Record performance\n",
    "perf_record = [{'Model': 'RandomForestClassifier', \n",
    "         'Train Accuracy': np.around(pipe.score(X_train,y_train), decimals=3),\n",
    "         'Test Accuracy': np.around(metrics.accuracy_score(y_test, predicted), decimals=3),\n",
    "        'Test Precision': np.around(metrics.precision_score(y_test, predicted), decimals=3), \n",
    "         'Test Recall': np.around(metrics.recall_score(y_test, predicted), decimals=3)}]\n",
    "\n",
    "df_performance = df_performance.append(perf_record, ignore_index=True, sort=False)\n",
    "\n",
    "# Model Accuracy\n",
    "print(\"RandomForestClassifier Training Accuracy:\", np.around(pipe.score(X_train,y_train), decimals=3))\n",
    "print(\"RandomForestClassifier Accuracy:\", np.around(metrics.accuracy_score(y_test, predicted), decimals=3))\n",
    "print(\"RandomForestClassifier Precision:\", np.around(metrics.precision_score(y_test, predicted), decimals=3))\n",
    "print(\"RandomForestClassifier Recall:\", np.around(metrics.recall_score(y_test, predicted), decimals=3))"
   ]
  },
  {
   "cell_type": "code",
   "execution_count": 23,
   "metadata": {},
   "outputs": [
    {
     "data": {
      "text/html": [
       "<div>\n",
       "<style scoped>\n",
       "    .dataframe tbody tr th:only-of-type {\n",
       "        vertical-align: middle;\n",
       "    }\n",
       "\n",
       "    .dataframe tbody tr th {\n",
       "        vertical-align: top;\n",
       "    }\n",
       "\n",
       "    .dataframe thead th {\n",
       "        text-align: right;\n",
       "    }\n",
       "</style>\n",
       "<table border=\"1\" class=\"dataframe\">\n",
       "  <thead>\n",
       "    <tr style=\"text-align: right;\">\n",
       "      <th></th>\n",
       "      <th>Model</th>\n",
       "      <th>Train Accuracy</th>\n",
       "      <th>Test Accuracy</th>\n",
       "      <th>Test Precision</th>\n",
       "      <th>Test Recall</th>\n",
       "    </tr>\n",
       "  </thead>\n",
       "  <tbody>\n",
       "    <tr>\n",
       "      <th>0</th>\n",
       "      <td>LinearSVC</td>\n",
       "      <td>0.976</td>\n",
       "      <td>0.767</td>\n",
       "      <td>0.733</td>\n",
       "      <td>0.774</td>\n",
       "    </tr>\n",
       "    <tr>\n",
       "      <th>1</th>\n",
       "      <td>LogisticRegression</td>\n",
       "      <td>0.946</td>\n",
       "      <td>0.780</td>\n",
       "      <td>0.755</td>\n",
       "      <td>0.770</td>\n",
       "    </tr>\n",
       "    <tr>\n",
       "      <th>2</th>\n",
       "      <td>DecisionTreeClassifier</td>\n",
       "      <td>0.907</td>\n",
       "      <td>0.736</td>\n",
       "      <td>0.711</td>\n",
       "      <td>0.714</td>\n",
       "    </tr>\n",
       "    <tr>\n",
       "      <th>3</th>\n",
       "      <td>RandomForestClassifier</td>\n",
       "      <td>0.993</td>\n",
       "      <td>0.733</td>\n",
       "      <td>0.708</td>\n",
       "      <td>0.710</td>\n",
       "    </tr>\n",
       "  </tbody>\n",
       "</table>\n",
       "</div>"
      ],
      "text/plain": [
       "                    Model  Train Accuracy  Test Accuracy  Test Precision  \\\n",
       "0               LinearSVC           0.976          0.767           0.733   \n",
       "1      LogisticRegression           0.946          0.780           0.755   \n",
       "2  DecisionTreeClassifier           0.907          0.736           0.711   \n",
       "3  RandomForestClassifier           0.993          0.733           0.708   \n",
       "\n",
       "   Test Recall  \n",
       "0        0.774  \n",
       "1        0.770  \n",
       "2        0.714  \n",
       "3        0.710  "
      ]
     },
     "execution_count": 23,
     "metadata": {},
     "output_type": "execute_result"
    }
   ],
   "source": [
    "df_performance"
   ]
  },
  {
   "cell_type": "code",
   "execution_count": 24,
   "metadata": {},
   "outputs": [
    {
     "data": {
      "image/png": "[encoded data removed]",
      "text/plain": [
       "<Figure size 1008x432 with 1 Axes>"
      ]
     },
     "metadata": {
      "needs_background": "light"
     },
     "output_type": "display_data"
    }
   ],
   "source": [
    "# Plot the results of different models\n",
    "df_performance.plot(kind='bar', grid='on', x = 'Model', figsize = (14,6), ylim=(0.65,1.05),);"
   ]
  }
 ],
 "metadata": {
  "kernelspec": {
   "display_name": "sentiment",
   "language": "python",
   "name": "sentiment"
  },
  "language_info": {
   "codemirror_mode": {
    "name": "ipython",
    "version": 3
   },
   "file_extension": ".py",
   "mimetype": "text/x-python",
   "name": "python",
   "nbconvert_exporter": "python",
   "pygments_lexer": "ipython3",
   "version": "3.8.5"
  }
 },
 "nbformat": 4,
 "nbformat_minor": 4
}
